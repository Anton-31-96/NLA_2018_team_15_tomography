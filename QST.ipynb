{
 "cells": [
  {
   "cell_type": "markdown",
   "metadata": {},
   "source": [
    "# Quantum state Tomography\n",
    "#### Team #15\n",
    "- Alexandr Talitsky\n",
    "- Andrey Vlasov\n",
    "- Anton Bozhedarov\n",
    "- Nikolay Shvetsov\n",
    "- Polina Pilyugina\n"
   ]
  },
  {
   "cell_type": "code",
   "execution_count": 1,
   "metadata": {},
   "outputs": [],
   "source": [
    "import numpy as np\n",
    "import matplotlib.pyplot as plt\n",
    "from numpy import linalg as LA\n",
    "%matplotlib inline"
   ]
  },
  {
   "cell_type": "markdown",
   "metadata": {},
   "source": [
    "## Simulate experiment \n",
    "In this part we:\n",
    "- generate state of qubit\n",
    "- define experimental setup (i.e. how we should measure the qubit and how many copies of it we have)\n",
    "- model experiment (obtain frequency probabilities outcomes)"
   ]
  },
  {
   "cell_type": "code",
   "execution_count": 2,
   "metadata": {},
   "outputs": [],
   "source": [
    "# define how we will measure the system\n",
    "def protocol(case = 'tetr', n = 1):\n",
    "    \"\"\"\n",
    "    return matrix of measurement protocol, where\n",
    "       row - measurement operator\n",
    "       column - operator's coefficients\n",
    "    case: 'tetr', 'xyz'\n",
    "    n: number of qubits (int)\n",
    "    \"\"\"\n",
    "    if case == 'tetr':\n",
    "        sq3 = 1/np.sqrt(3)\n",
    "        a0 = np.array([1,sq3,sq3,sq3])\n",
    "        a1 = np.array([1,sq3,-sq3,-sq3])\n",
    "        a2 = np.array([1,-sq3,sq3,-sq3])\n",
    "        a3 = np.array([1,-sq3,-sq3,sq3])\n",
    "        A = np.array([a0,a1,a2,a3])\n",
    "        S = A\n",
    "        for i in range(n-1):\n",
    "            S = np.kron(S,A)\n",
    "        S = S/S.shape[0]\n",
    "    \n",
    "    if case == 'xyz':\n",
    "        x = np.array([1,1,0,0])\n",
    "        y = np.array([1,0,1,0])\n",
    "        z = np.array([1,0,0,1])\n",
    "        A = [x,-x,y,-y,z,-z]\n",
    "        S = A\n",
    "        for i in range(n-1):\n",
    "            S = np.kron(S, A)\n",
    "        S = S/S.shape[0]\n",
    "             \n",
    "    return S"
   ]
  },
  {
   "cell_type": "code",
   "execution_count": 3,
   "metadata": {},
   "outputs": [],
   "source": [
    "# model experiment's outcome\n",
    "def measurements(E, rho, N = 1000, noise = 0):\n",
    "    \"\"\"\n",
    "    returns frequency probabilies for measurements of state rho according to protocol E\n",
    "    E - (nd.array)\n",
    "    rho - state as expanded vector on Bloch sphere\n",
    "    N - number of measurements (int)\n",
    "    noise - level of noise while measurements (from 0 to 1)\n",
    "    \"\"\"\n",
    "    if (noise > 1) or (noise < 0):\n",
    "        print(\"incorrect level of noise\")\n",
    "        return False\n",
    "    p = E@rho\n",
    "    n = np.zeros(E.shape[0])\n",
    "    pos_outcomes = np.arange(E.shape[0])\n",
    "    \n",
    "    outcomes = np.random.choice(pos_outcomes, size = N, p = p)\n",
    "    \n",
    "    if noise > 0:\n",
    "        # level of noise\n",
    "        noise_pos = np.random.choice([0,1], p = [1-noise, noise], size=N)\n",
    "#         replace = np.random.choice(range(N), replace=False, size= int(N*noise) )\n",
    "        outcomes[np.where(noise_pos == 1)] = np.random.choice(pos_outcomes, size = np.sum(noise_pos))\n",
    "        \n",
    "    beta = 0.5\n",
    "    \n",
    "    for i in range(E.shape[0]):\n",
    "        ind = np.where(outcomes == pos_outcomes[i])\n",
    "        n[i] = (len(ind[0])+beta)/(N+2*beta)\n",
    "        \n",
    "    return n"
   ]
  },
  {
   "cell_type": "code",
   "execution_count": 4,
   "metadata": {},
   "outputs": [],
   "source": [
    "def gen_state(n = 1):\n",
    "    \"\"\"\n",
    "    returns random state of n qubits\n",
    "    \"\"\"\n",
    "    \n",
    "    def rand_qubit():\n",
    "        \"\"\"\n",
    "        returns random state of single qubit\n",
    "        \"\"\"\n",
    "        fi = np.random.uniform(0, 2*np.pi)\n",
    "        theta = np.arccos( np.random.uniform(-1., 1.) )\n",
    "        x = np.cos(fi) * np.sin(theta)\n",
    "        y = np.sin(fi) * np.sin(theta)\n",
    "        z = np.cos(theta)\n",
    "#         return np.array([1,0,0,1])\n",
    "        return np.array([1,x,y,z])\n",
    "        \n",
    "    state = rand_qubit()   \n",
    "    for i in range(n-1):\n",
    "        state = np.kron(state, rand_qubit())\n",
    "    \n",
    "    return state"
   ]
  },
  {
   "cell_type": "code",
   "execution_count": 5,
   "metadata": {},
   "outputs": [],
   "source": [
    "def pauli_dot(vector):\n",
    "    \"\"\"\n",
    "    Scalar product of matrices Pauli and vector (to return ro matrix representation)\n",
    "    \"\"\" \n",
    "    # Pauli matrixes\n",
    "    X = np.matrix([[0, 1], [1, 0]], dtype = complex)\n",
    "    Y = np.matrix([[0, -1j], [1j, 0]], dtype = complex)\n",
    "    Z = np.matrix([[1, 0], [0, -1]], dtype = complex)\n",
    "    I2 = np.eye(2)\n",
    "    s = np.array([I2,X,Y,Z])\n",
    "    S = s\n",
    "    \n",
    "    # define number of qubits:\n",
    "    k = int(np.log2(np.sqrt(len(vector))))\n",
    "    \n",
    "    for i in range(n-1):\n",
    "        S =  np.kron(S,s)\n",
    "        \n",
    "    rho = S[0]*vector[0]/(2**k)\n",
    "    for i in range(1,len(S)):\n",
    "        rho = rho + 0.5 * S[i] * vector[i]\n",
    "    \n",
    "    return rho"
   ]
  },
  {
   "cell_type": "code",
   "execution_count": 15,
   "metadata": {},
   "outputs": [],
   "source": [
    "from scipy.linalg import sqrtm\n",
    "from numpy.linalg import matrix_power\n",
    "\n",
    "def hs_norm(rho_est, rho):\n",
    "    return np.real((1/np.sqrt(2))*np.trace(sqrtm(matrix_power(rho_est - rho, 2))))\n",
    "\n",
    "# def hs_norm(rho_est, rho):\n",
    "#     return np.real(np.trace(matrix_power(rho_est - rho, 2)))\n",
    "\n",
    "def t_norm(rho_est, rho):\n",
    "    M = np.matrix(rho_est - rho)\n",
    "    return np.real(0.5 * np.trace(sqrtm(M.H@M)))\n",
    "\n",
    "def if_norm(rho_est, rho):\n",
    "    sq = sqrtm(rho_est)\n",
    "    mult = sqrtm(sq @ rho @ sq)\n",
    "    return np.real((1-np.trace(matrix_power(mult, 2))))"
   ]
  },
  {
   "cell_type": "markdown",
   "metadata": {},
   "source": [
    "Generate initial state as a vector $\\rho_{vec} \\in (\\mathbb{R}^4)^{\\otimes n}$, where $\\rho_{vec}$[0] is always 1 (just convinient way of representation).\n",
    "\n",
    "And then model experiment"
   ]
  },
  {
   "cell_type": "code",
   "execution_count": 16,
   "metadata": {},
   "outputs": [],
   "source": [
    "n = 1 # number of qubits\n",
    "\n",
    "E = protocol('tetr', n)\n",
    "\n",
    "rho_vec = gen_state(n = n) # random state of system of n qubits\n",
    "\n",
    "N = 1000 # number of measurements (i.e. numer of copies of a system)\n",
    "\n",
    "b = measurements(E, rho_vec, N = N, noise=0.05) # here we obtain probabilities of measurement outcomes\n",
    "# print(b)"
   ]
  },
  {
   "cell_type": "markdown",
   "metadata": {},
   "source": [
    "## Recovery of the state\n",
    "### Via inverse matrix"
   ]
  },
  {
   "cell_type": "markdown",
   "metadata": {},
   "source": [
    "Tomography of the system (i.e. recovery of density matrix) is the solution of the following system:\n",
    "\n",
    "$$\n",
    "     S\\rho_{vec} = b\n",
    "$$\n",
    "\n",
    "i.e. \n",
    "$$\n",
    "    \\rho_{vec} = (S*S)^{-1}S* b\n",
    "$$"
   ]
  },
  {
   "cell_type": "markdown",
   "metadata": {},
   "source": [
    "Then, we can return to density matrix representation"
   ]
  },
  {
   "cell_type": "markdown",
   "metadata": {},
   "source": [
    "And then check whether our solution is physical, i.e.\n",
    "- $\\rho_{est} = \\rho_{est}*$ (* means hermitian conjugation)\n",
    "- $\\rho_{est} \\ge 0$\n",
    "- $tr[\\rho_{est}] \\le 1$"
   ]
  },
  {
   "cell_type": "code",
   "execution_count": 17,
   "metadata": {},
   "outputs": [],
   "source": [
    "S = np.matrix(E) # in this form it is easy to perfom hermitian conjugation\n",
    "\n",
    "def find_rho(E, b):\n",
    "    \"\"\"\n",
    "    return rho_est via pseudo inverse matrix\n",
    "    \"\"\"\n",
    "    S = np.matrix(E)\n",
    "    rho_vec_est = np.array((((S.H@S).I)@S.H)@b).reshape(-1)    \n",
    "    return rho_vec_est"
   ]
  },
  {
   "cell_type": "code",
   "execution_count": 18,
   "metadata": {},
   "outputs": [],
   "source": [
    "def check_physical(rho):\n",
    "    '''\n",
    "    Input: matrix rho\n",
    "    Output: matrix rho, modified to be phisical\n",
    "    '''            \n",
    "    # Positive semi-definiteness\n",
    "    eigenvalues, s = LA.eigh(rho)\n",
    "\n",
    "    for i in range(eigenvalues.shape[0]):\n",
    "        value = eigenvalues[i]\n",
    "#         print(value)\n",
    "        if eigenvalues[i] < 0:\n",
    "            eigenvalues[i] = 0\n",
    "    rho_modified = np.matmul(np.matmul(s, np.diag(eigenvalues)), LA.inv(s))\n",
    "\n",
    "    \n",
    "    # Trace adjustment\n",
    "    tr = np.trace(rho_modified)\n",
    "    if tr > 1:\n",
    "        rho_modified = rho_modified/tr\n",
    "    return rho_modified"
   ]
  },
  {
   "cell_type": "code",
   "execution_count": 19,
   "metadata": {},
   "outputs": [],
   "source": [
    "snr = np.arange(0,0.85,0.05) # noise level\n",
    "N = 1000\n",
    "norm_t_d  = []\n",
    "norm_hs_d = []\n",
    "norm_if_d = []\n",
    "zero_el = np.zeros((2,2))\n",
    "\n",
    "for noise in snr:\n",
    "    td = []\n",
    "    hsd = []\n",
    "    ifd = []\n",
    "    \n",
    "    for i in range(50):\n",
    "        rho_vec = gen_state(n = 1) # random state of system of 1 qubit\n",
    "        rho_true = pauli_dot(rho_vec)\n",
    "        \n",
    "        # here we obtain probabilities of measurement outcomes\n",
    "        b = measurements(E, rho_vec, N = N, noise=noise) \n",
    "        \n",
    "        rho = check_physical(pauli_dot(find_rho(S, b)))\n",
    "        \n",
    "        # append to arrays\n",
    "#         td.append( t_norm(rho_true, rho)/t_norm(rho_true,zero_el)  )\n",
    "#         hsd.append( hs_norm(rho_true, rho)/hs_norm(rho_true,zero_el) )\n",
    "#         ifd.append( if_norm(rho_true, rho)/if_norm(rho_true,zero_el) )\n",
    "\n",
    "        td.append( t_norm(rho_true, rho))\n",
    "        hsd.append( hs_norm(rho_true, rho))\n",
    "        ifd.append( if_norm(rho_true, rho))\n",
    "        \n",
    "    norm_t_d.append( sum(td)/len(td) )\n",
    "    norm_hs_d.append( sum(hsd)/len(hsd) )\n",
    "    norm_if_d.append( sum(ifd)/len(ifd) )"
   ]
  },
  {
   "cell_type": "code",
   "execution_count": 38,
   "metadata": {},
   "outputs": [
    {
     "data": {
      "image/png": "[encoded data removed]",
      "text/plain": [
       "<Figure size 432x288 with 1 Axes>"
      ]
     },
     "metadata": {
      "needs_background": "light"
     },
     "output_type": "display_data"
    }
   ],
   "source": [
    "plt.plot(snr, norm_t_d, label = 'Trace distance', marker='o')\n",
    "plt.plot(snr, norm_hs_d, label= 'Hilbert Schmidt distance', marker= '>')\n",
    "plt.plot(snr, norm_if_d, label='Infidelity', marker='o')\n",
    "\n",
    "plt.xlabel('Level of noise')\n",
    "plt.ylabel('epsilon')\n",
    "plt.title('Perfomance of inverse matrix method')\n",
    "plt.legend()\n",
    "plt.show()"
   ]
  },
  {
   "cell_type": "code",
   "execution_count": null,
   "metadata": {},
   "outputs": [],
   "source": []
  },
  {
   "cell_type": "markdown",
   "metadata": {},
   "source": [
    "### Gradient descent\n",
    "\n",
    "We will maximize likelyhood function using gradient descent approach. Start with initial guess $\\rho_0 = I/2$ (i.e. totally mixed state). Then, every iteration step we choose a direction of the fastest increasing of likelyhood function."
   ]
  },
  {
   "cell_type": "code",
   "execution_count": 24,
   "metadata": {},
   "outputs": [],
   "source": [
    "def operator_from_vec(vec):\n",
    "    vec = np.array(vec).reshape(-1)\n",
    "    X = np.matrix([[0, 1], [1, 0]], dtype = complex)\n",
    "    Y = np.matrix([[0, -1j], [1j, 0]], dtype = complex)\n",
    "    Z = np.matrix([[1, 0], [0, -1]], dtype = complex)\n",
    "    I2 = np.eye(2)\n",
    "    s = np.array([I2,X,Y,Z])\n",
    "    S = s\n",
    "\n",
    "    # define number of qubits:\n",
    "    k = int(np.log2(np.sqrt(len(vec))))\n",
    "    \n",
    "    for i in range(k-1):\n",
    "        S =  np.kron(S,s)\n",
    "        \n",
    "#     rho = S[0]*vector[0]/(2**k)\n",
    "    opert = np.zeros(S[0].shape)\n",
    "    for i in range(S.shape[0]):\n",
    "        opert = opert + S[i] * vec[i]\n",
    "    \n",
    "    return opert\n",
    "\n",
    "\n",
    "def gradient(S, f, rho_vec, eps):\n",
    "    \"\"\"\n",
    "    optimization of ML function via gradient descent method\n",
    "    \"\"\"\n",
    "    rho = pauli_dot(rho_vec)\n",
    "    \n",
    "    def R(rho):\n",
    "        S0 = operator_from_vec(S[0])\n",
    "        p0 = np.trace(S0 @ rho)\n",
    "        r = S0 * f[0]/p0\n",
    "        for j in range(1,E.shape[0]):\n",
    "            Sj = operator_from_vec(S[j])\n",
    "            pj =  np.trace(Sj@rho)\n",
    "            r = r + (Sj * f[j]/pj)\n",
    "        return r\n",
    "    \n",
    "    def LLH(rho):\n",
    "        return np.trace(R(rho) @ rho)\n",
    "    \n",
    "    def rho_next(eps, Rk):\n",
    "        I = np.eye(rho.shape[0])\n",
    "        numer = (I+eps/2*(Rk - I)) @ rho @ (I+eps/2*(Rk+I))\n",
    "        denom = np.trace(numer)\n",
    "        return numer/denom\n",
    "\n",
    "    b = 1 # for setup of eps1, eps2\n",
    "    LLH_c = LLH(rho)\n",
    "    \n",
    "    conv_t = []\n",
    "    conv_hs = []\n",
    "    conv_if = []\n",
    "    zero_el = np.zeros((2,2))\n",
    "    \n",
    "    for k in range(1000):\n",
    "        Rk = R(rho)\n",
    "        eps_ar = np.array([0, np.random.rand(), np.random.rand()])*b\n",
    "        \n",
    "        LLH_1 = LLH(rho_next(eps_ar[1], Rk))\n",
    "        LLH_2 = LLH(rho_next(eps_ar[2], Rk))        \n",
    "        \n",
    "        eps_c = np.argmin([LLH_c, LLH_1, LLH_2])\n",
    "        \n",
    "        rho_n = rho_next(eps_c, Rk)\n",
    "        LLH_c = LLH(rho)\n",
    "        \n",
    "        # check if algorithm still are improoving current guess\n",
    "        if (t_norm(Rk@rho,rho) + hs_norm(Rk@rho,rho) + if_norm(Rk@rho, rho)) < eps:\n",
    "            break\n",
    "        \n",
    "        if k>1:\n",
    "            conv_t.append(t_norm(rho, rho_n)/t_norm(rho, zero_el))\n",
    "            conv_hs.append(hs_norm(rho, rho_n)/hs_norm(rho, zero_el))\n",
    "            conv_if.append(if_norm(rho, rho_n)/if_norm(rho, zero_el))\n",
    "        \n",
    "        LLH_c = LLH(rho_n)\n",
    "        rho = rho_n\n",
    "        \n",
    "    \n",
    "    return rho, conv_t, conv_hs, conv_if"
   ]
  },
  {
   "cell_type": "code",
   "execution_count": 25,
   "metadata": {},
   "outputs": [],
   "source": [
    "n = 1 \n",
    "E = protocol('tetr', n)\n",
    "S = np.matrix(E)\n",
    "\n",
    "rho_vec = gen_state(n = n) # random state of system of n qubits\n",
    "\n",
    "N = 1000\n",
    "snr = np.arange(0,0.85,0.05) # noise level\n",
    "\n",
    "\n",
    "hist_t = []\n",
    "hist_hs = []\n",
    "hist_if = []\n",
    "rho_est_ar = []\n",
    "\n",
    "for noise in snr:\n",
    "    b = measurements(E, rho_vec, N = N, noise=noise)\n",
    "    \n",
    "    rho_est, h_t, h_hs, h_if = gradient(S, f = b, rho_vec=[1,0,0,0], eps = 1e-4)\n",
    "    \n",
    "    rho_est_ar.append(rho_est)\n",
    "    hist_t.append(h_t)\n",
    "    hist_hs.append(h_hs)\n",
    "    hist_if.append(h_if)\n",
    "    \n"
   ]
  },
  {
   "cell_type": "code",
   "execution_count": 26,
   "metadata": {},
   "outputs": [],
   "source": [
    "ksi_t = []\n",
    "ksi_hs = []\n",
    "ksi_if = []\n",
    "zero_el = np.zeros((2,2))\n",
    "rho_true = pauli_dot(rho_vec)\n",
    "\n",
    "for i in range(len(rho_est_ar)):\n",
    "#     ksi_t.append( t_norm(rho_true, rho_est_ar[i])/t_norm(rho_true, zero_el))\n",
    "#     ksi_hs.append( hs_norm(rho_true, rho_est_ar[i])/hs_norm(rho_true, zero_el))\n",
    "#     ksi_if.append( if_norm(rho_true, rho_est_ar[i])/if_norm(rho_true, zero_el))\n",
    "    \n",
    "    ksi_t.append( t_norm(rho_true, rho_est_ar[i]))\n",
    "    ksi_hs.append( hs_norm(rho_true, rho_est_ar[i]))\n",
    "    ksi_if.append( if_norm(rho_true, rho_est_ar[i]))"
   ]
  },
  {
   "cell_type": "code",
   "execution_count": 39,
   "metadata": {},
   "outputs": [
    {
     "data": {
      "image/png": "[encoded data removed]",
      "text/plain": [
       "<Figure size 432x288 with 1 Axes>"
      ]
     },
     "metadata": {
      "needs_background": "light"
     },
     "output_type": "display_data"
    }
   ],
   "source": [
    "plt.plot(snr, np.real(ksi_t), label = 'trace norm', marker='o')\n",
    "plt.plot(snr, np.real(ksi_hs), label = 'HS norm', marker= '>')\n",
    "plt.plot(snr, np.real(ksi_if), label = 'Infidelity', marker='o')\n",
    "\n",
    "plt.xlabel('Level of noise')\n",
    "plt.ylabel('Relative error')\n",
    "plt.title('Perfomance of gradient descent algorithm')\n",
    "plt.legend()\n",
    "plt.show()"
   ]
  },
  {
   "cell_type": "code",
   "execution_count": 36,
   "metadata": {},
   "outputs": [
    {
     "data": {
      "image/png": "[encoded data removed]",
      "text/plain": [
       "<Figure size 432x288 with 1 Axes>"
      ]
     },
     "metadata": {
      "needs_background": "light"
     },
     "output_type": "display_data"
    }
   ],
   "source": [
    "plt.semilogx(hist_if[14], label = 'noise = 0.7')\n",
    "plt.semilogx(hist_if[0], label = 'noise = 0')\n",
    "plt.semilogx(hist_if[5], label = 'noise = 0.25')\n",
    "plt.semilogx(hist_if[8], label = 'noise = 0.4')\n",
    "plt.legend()\n",
    "plt.xlabel('iteration step')\n",
    "plt.ylabel('Error')\n",
    "plt.title('Convergency of the gradient descent method')\n",
    "plt.show()"
   ]
  },
  {
   "cell_type": "code",
   "execution_count": null,
   "metadata": {},
   "outputs": [],
   "source": []
  },
  {
   "cell_type": "code",
   "execution_count": null,
   "metadata": {},
   "outputs": [],
   "source": []
  },
  {
   "cell_type": "code",
   "execution_count": null,
   "metadata": {},
   "outputs": [],
   "source": []
  },
  {
   "cell_type": "code",
   "execution_count": null,
   "metadata": {},
   "outputs": [],
   "source": []
  },
  {
   "cell_type": "code",
   "execution_count": null,
   "metadata": {},
   "outputs": [],
   "source": []
  },
  {
   "cell_type": "code",
   "execution_count": null,
   "metadata": {},
   "outputs": [],
   "source": []
  },
  {
   "cell_type": "code",
   "execution_count": 37,
   "metadata": {},
   "outputs": [],
   "source": [
    "# n = 1\n",
    "# def hml_iteration(S, rho_initial, f, eps = 1/N, beta = 0.5):\n",
    "    \n",
    "#     def R(rho):\n",
    "#         S0 = operator_from_vec(S[0])\n",
    "#         p0 = np.trace(S0 @ rho)\n",
    "#         r = S0 * f[0]/p0\n",
    "#         for j in range(1,E.shape[0]):\n",
    "#             Sj = operator_from_vec(S[j])\n",
    "#             pj =  np.trace(Sj@rho)\n",
    "#             r = r + (Sj * f[j]/pj)\n",
    "#         return r\n",
    "    \n",
    "#     def delta_k(rho):\n",
    "#         dk = (eps/2)*( beta*(LA.pinv(rho) - 2*np.eye(2)) + N *(R(rho) - np.eye(2))  )\n",
    "#         return dk\n",
    "    \n",
    "#     rho_k = rho_initial\n",
    "#     for k in range(1000):\n",
    "#         m = (np.eye(2) + delta_k(rho_k))\n",
    "#         numer = m @ rho_k @ m\n",
    "#         rho_k = numer/np.trace(numer)\n",
    "        \n",
    "#     return rho_k\n",
    "    \n",
    "# hml_iteration(S, np.eye(2), b) \n",
    "# # hml_iteration(S, pauli_dot(rho_vec), b)"
   ]
  },
  {
   "cell_type": "code",
   "execution_count": null,
   "metadata": {},
   "outputs": [],
   "source": []
  },
  {
   "cell_type": "code",
   "execution_count": null,
   "metadata": {},
   "outputs": [],
   "source": []
  },
  {
   "cell_type": "code",
   "execution_count": null,
   "metadata": {},
   "outputs": [],
   "source": []
  }
 ],
 "metadata": {
  "kernelspec": {
   "display_name": "Python 3",
   "language": "python",
   "name": "python3"
  },
  "language_info": {
   "codemirror_mode": {
    "name": "ipython",
    "version": 3
   },
   "file_extension": ".py",
   "mimetype": "text/x-python",
   "name": "python",
   "nbconvert_exporter": "python",
   "pygments_lexer": "ipython3",
   "version": "3.7.0"
  }
 },
 "nbformat": 4,
 "nbformat_minor": 2
}
